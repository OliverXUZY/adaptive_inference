{
 "cells": [
  {
   "cell_type": "code",
   "execution_count": 1,
   "metadata": {},
   "outputs": [],
   "source": [
    "from itertools import combinations\n",
    "from math import comb\n",
    "import numpy as np"
   ]
  },
  {
   "cell_type": "code",
   "execution_count": 7,
   "metadata": {},
   "outputs": [
    {
     "data": {
      "text/plain": [
       "28"
      ]
     },
     "execution_count": 7,
     "metadata": {},
     "output_type": "execute_result"
    }
   ],
   "source": [
    "num_block = 8\n",
    "skip_block = 2\n",
    "num_combinations = comb(num_block, skip_block)\n",
    "num_combinations"
   ]
  },
  {
   "cell_type": "code",
   "execution_count": 8,
   "metadata": {},
   "outputs": [
    {
     "data": {
      "text/plain": [
       "[(0, 1),\n",
       " (0, 2),\n",
       " (0, 3),\n",
       " (0, 4),\n",
       " (0, 5),\n",
       " (0, 6),\n",
       " (0, 7),\n",
       " (1, 2),\n",
       " (1, 3),\n",
       " (1, 4),\n",
       " (1, 5),\n",
       " (1, 6),\n",
       " (1, 7),\n",
       " (2, 3),\n",
       " (2, 4),\n",
       " (2, 5),\n",
       " (2, 6),\n",
       " (2, 7),\n",
       " (3, 4),\n",
       " (3, 5),\n",
       " (3, 6),\n",
       " (3, 7),\n",
       " (4, 5),\n",
       " (4, 6),\n",
       " (4, 7),\n",
       " (5, 6),\n",
       " (5, 7),\n",
       " (6, 7)]"
      ]
     },
     "execution_count": 8,
     "metadata": {},
     "output_type": "execute_result"
    }
   ],
   "source": [
    "all_combinations = list(combinations(range(num_block), skip_block))\n",
    "all_combinations"
   ]
  },
  {
   "cell_type": "code",
   "execution_count": 9,
   "metadata": {},
   "outputs": [
    {
     "name": "stdout",
     "output_type": "stream",
     "text": [
      "[(0, 1), (0, 2), (0, 3), (0, 4), (0, 5), (0, 6), (0, 7), (1, 2), (1, 3), (1, 4), (1, 5), (1, 6), (1, 7), (2, 3), (2, 4), (2, 5), (2, 6), (2, 7), (3, 4), (3, 5), (3, 6), (3, 7), (4, 5), (4, 6), (4, 7), (5, 6), (5, 7), (6, 7)]\n"
     ]
    }
   ],
   "source": [
    "masks = np.ones((len(all_combinations), num_block))\n",
    "for i, idx in enumerate(all_combinations):\n",
    "    masks[i, idx] = 0\n",
    "print(all_combinations)"
   ]
  },
  {
   "cell_type": "code",
   "execution_count": 10,
   "metadata": {},
   "outputs": [
    {
     "data": {
      "text/plain": [
       "array([[0., 0., 1., 1., 1., 1., 1., 1.],\n",
       "       [0., 1., 0., 1., 1., 1., 1., 1.],\n",
       "       [0., 1., 1., 0., 1., 1., 1., 1.],\n",
       "       [0., 1., 1., 1., 0., 1., 1., 1.],\n",
       "       [0., 1., 1., 1., 1., 0., 1., 1.],\n",
       "       [0., 1., 1., 1., 1., 1., 0., 1.],\n",
       "       [0., 1., 1., 1., 1., 1., 1., 0.],\n",
       "       [1., 0., 0., 1., 1., 1., 1., 1.],\n",
       "       [1., 0., 1., 0., 1., 1., 1., 1.],\n",
       "       [1., 0., 1., 1., 0., 1., 1., 1.],\n",
       "       [1., 0., 1., 1., 1., 0., 1., 1.],\n",
       "       [1., 0., 1., 1., 1., 1., 0., 1.],\n",
       "       [1., 0., 1., 1., 1., 1., 1., 0.],\n",
       "       [1., 1., 0., 0., 1., 1., 1., 1.],\n",
       "       [1., 1., 0., 1., 0., 1., 1., 1.],\n",
       "       [1., 1., 0., 1., 1., 0., 1., 1.],\n",
       "       [1., 1., 0., 1., 1., 1., 0., 1.],\n",
       "       [1., 1., 0., 1., 1., 1., 1., 0.],\n",
       "       [1., 1., 1., 0., 0., 1., 1., 1.],\n",
       "       [1., 1., 1., 0., 1., 0., 1., 1.],\n",
       "       [1., 1., 1., 0., 1., 1., 0., 1.],\n",
       "       [1., 1., 1., 0., 1., 1., 1., 0.],\n",
       "       [1., 1., 1., 1., 0., 0., 1., 1.],\n",
       "       [1., 1., 1., 1., 0., 1., 0., 1.],\n",
       "       [1., 1., 1., 1., 0., 1., 1., 0.],\n",
       "       [1., 1., 1., 1., 1., 0., 0., 1.],\n",
       "       [1., 1., 1., 1., 1., 0., 1., 0.],\n",
       "       [1., 1., 1., 1., 1., 1., 0., 0.]])"
      ]
     },
     "execution_count": 10,
     "metadata": {},
     "output_type": "execute_result"
    }
   ],
   "source": [
    "masks"
   ]
  },
  {
   "cell_type": "code",
   "execution_count": 2,
   "metadata": {},
   "outputs": [
    {
     "data": {
      "text/plain": [
       "array([0.15123731, 0.13619721, 0.10197149, 0.13584436, 0.10179507,\n",
       "       0.13566795, 0.10170685, 0.13557974], dtype=float32)"
      ]
     },
     "execution_count": 2,
     "metadata": {},
     "output_type": "execute_result"
    }
   ],
   "source": [
    "np.load(\"/home/zhuoyan/vision/adaptive_inference/libs/model/macs/resnet18_cifar10.npy\")"
   ]
  },
  {
   "cell_type": "code",
   "execution_count": 3,
   "metadata": {},
   "outputs": [
    {
     "data": {
      "text/plain": [
       "array([0.15123875, 0.13619699, 0.10197131, 0.13584414, 0.1017949 ,\n",
       "       0.13566773, 0.10170668, 0.13557951], dtype=float32)"
      ]
     },
     "execution_count": 3,
     "metadata": {},
     "output_type": "execute_result"
    }
   ],
   "source": [
    "np.load(\"/home/zhuoyan/vision/adaptive_inference/libs/model/macs/resnet18_cifar100.npy\")"
   ]
  },
  {
   "cell_type": "code",
   "execution_count": 5,
   "metadata": {},
   "outputs": [
    {
     "data": {
      "text/plain": [
       "array([0.2051377 , 0.12754805, 0.09549583, 0.12721762, 0.0953306 ,\n",
       "       0.1270524 , 0.095248  , 0.1269698 ], dtype=float32)"
      ]
     },
     "execution_count": 5,
     "metadata": {},
     "output_type": "execute_result"
    }
   ],
   "source": [
    "np.load(\"/home/zhuoyan/vision/adaptive_inference/libs/model/macs/resnet18_imagenet.npy\")"
   ]
  },
  {
   "cell_type": "code",
   "execution_count": null,
   "metadata": {},
   "outputs": [],
   "source": []
  }
 ],
 "metadata": {
  "kernelspec": {
   "display_name": "py39",
   "language": "python",
   "name": "python3"
  },
  "language_info": {
   "codemirror_mode": {
    "name": "ipython",
    "version": 3
   },
   "file_extension": ".py",
   "mimetype": "text/x-python",
   "name": "python",
   "nbconvert_exporter": "python",
   "pygments_lexer": "ipython3",
   "version": "3.10.0"
  }
 },
 "nbformat": 4,
 "nbformat_minor": 2
}
