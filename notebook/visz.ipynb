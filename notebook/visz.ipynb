{
 "cells": [
  {
   "cell_type": "code",
   "execution_count": 26,
   "metadata": {},
   "outputs": [],
   "source": [
    "import os\n",
    "os.chdir(\"/Users/zyxu/Documents/py/vision/adaptive_inference/\")\n",
    "import numpy as np\n",
    "from collections import defaultdict \n"
   ]
  },
  {
   "cell_type": "code",
   "execution_count": 7,
   "metadata": {},
   "outputs": [],
   "source": [
    "data_path = \"/Users/zyxu/Documents/py/vision/adaptive_inference/log/resnet50_imagenet\""
   ]
  },
  {
   "cell_type": "code",
   "execution_count": 8,
   "metadata": {},
   "outputs": [
    {
     "data": {
      "text/plain": [
       "'resnet50_cifar10_skip1.npz'"
      ]
     },
     "execution_count": 8,
     "metadata": {},
     "output_type": "execute_result"
    }
   ],
   "source": [
    "i = 1\n",
    "\n",
    "file"
   ]
  },
  {
   "cell_type": "code",
   "execution_count": 31,
   "metadata": {},
   "outputs": [],
   "source": [
    "res = defaultdict(list)\n",
    "for i in range(16):\n",
    "    file = f\"resnet50_cifar10_skip{i}.npz\"\n",
    "    data = np.load(f\"{data_path}/{file}\")\n",
    "    for key in data:\n",
    "        res[key].append(data[key])"
   ]
  },
  {
   "cell_type": "code",
   "execution_count": 32,
   "metadata": {},
   "outputs": [
    {
     "data": {
      "text/plain": [
       "dict_keys(['masks', 'accs', 'over_accs', 'macs_total'])"
      ]
     },
     "execution_count": 32,
     "metadata": {},
     "output_type": "execute_result"
    }
   ],
   "source": [
    "res.keys()"
   ]
  },
  {
   "cell_type": "code",
   "execution_count": 33,
   "metadata": {},
   "outputs": [
    {
     "data": {
      "text/plain": [
       "[array([0.77044]),\n",
       " array([0.7673 , 0.76046, 0.74746, 0.76112, 0.75774, 0.76372, 0.75076,\n",
       "        0.75984, 0.76024, 0.75946, 0.757  , 0.75446, 0.74162, 0.74888,\n",
       "        0.7595 ]),\n",
       " array([0.7447 , 0.75346, 0.73958, 0.70588, 0.7429 , 0.72138, 0.74686,\n",
       "        0.74822, 0.74122, 0.72002, 0.7512 , 0.72464, 0.75966, 0.74304,\n",
       "        0.72138, 0.7314 , 0.74876, 0.74294, 0.68884, 0.73942, 0.71518,\n",
       "        0.72688, 0.7267 , 0.70588, 0.73426, 0.74822, 0.73248, 0.74134,\n",
       "        0.74946, 0.72446, 0.75346, 0.73896, 0.73248, 0.74722, 0.73582,\n",
       "        0.72906, 0.70014, 0.74946, 0.74304, 0.72002, 0.74608, 0.72446,\n",
       "        0.74068, 0.73884, 0.73248, 0.74384, 0.73342, 0.73038, 0.75198,\n",
       "        0.74608, 0.73938, 0.74506, 0.7447 , 0.72906, 0.73302, 0.74304,\n",
       "        0.73506, 0.72714, 0.74506, 0.73868, 0.74608, 0.74134, 0.7173 ,\n",
       "        0.75736]),\n",
       " array([0.70294, 0.71748, 0.68202, 0.70652, 0.73514, 0.72338, 0.6929 ,\n",
       "        0.71224, 0.74488, 0.70138, 0.71668, 0.72176, 0.68878, 0.68806,\n",
       "        0.70254, 0.58326, 0.72008, 0.7195 , 0.69364, 0.705  , 0.74274,\n",
       "        0.71132, 0.72168, 0.6988 , 0.69364, 0.72376, 0.70294, 0.70436,\n",
       "        0.7228 , 0.71142, 0.72498, 0.70774, 0.73764, 0.69816, 0.67938,\n",
       "        0.71528, 0.70876, 0.68564, 0.69762, 0.7255 , 0.70798, 0.72542,\n",
       "        0.68878, 0.6585 , 0.73132, 0.73144, 0.73   , 0.69266, 0.68506,\n",
       "        0.7255 , 0.71954, 0.71556, 0.71098, 0.709  , 0.68364, 0.70892,\n",
       "        0.68652, 0.67402, 0.71142, 0.66602, 0.74048, 0.70652, 0.69356,\n",
       "        0.69798]),\n",
       " array([0.65908, 0.56066, 0.68606, 0.69682, 0.66114, 0.69622, 0.7248 ,\n",
       "        0.6052 , 0.69072, 0.6562 , 0.61682, 0.63312, 0.65232, 0.675  ,\n",
       "        0.67828, 0.64866, 0.69376, 0.675  , 0.67064, 0.67306, 0.67348,\n",
       "        0.65334, 0.65708, 0.64586, 0.6661 , 0.60428, 0.65722, 0.62652,\n",
       "        0.70236, 0.5948 , 0.71974, 0.6651 , 0.70922, 0.67292, 0.69984,\n",
       "        0.54776, 0.70288, 0.65066, 0.63742, 0.6723 , 0.68484, 0.60922,\n",
       "        0.6651 , 0.6214 , 0.71206, 0.67368, 0.66982, 0.62402, 0.71198,\n",
       "        0.70288, 0.67344, 0.65982, 0.62974, 0.6663 , 0.6864 , 0.6896 ,\n",
       "        0.66448, 0.73316, 0.71378, 0.65298, 0.61638, 0.62352, 0.63974,\n",
       "        0.65882]),\n",
       " array([0.5989 , 0.63546, 0.46196, 0.62972, 0.68408, 0.62798, 0.59982,\n",
       "        0.60028, 0.25054, 0.6255 , 0.667  , 0.59412, 0.57496, 0.65694,\n",
       "        0.61808, 0.64814, 0.47168, 0.61442, 0.55146, 0.52596, 0.47138,\n",
       "        0.63612, 0.57664, 0.61824, 0.58736, 0.64014, 0.51448, 0.61796,\n",
       "        0.65992, 0.64204, 0.59334, 0.56368, 0.495  , 0.60336, 0.63356,\n",
       "        0.30032, 0.65766, 0.64664, 0.62988, 0.5931 , 0.65656, 0.67542,\n",
       "        0.54714, 0.64368, 0.65512, 0.65478, 0.56812, 0.6235 , 0.6018 ,\n",
       "        0.6793 , 0.6538 , 0.6402 , 0.6352 , 0.64526, 0.62866, 0.57884,\n",
       "        0.64296, 0.65682, 0.66252, 0.61514, 0.65298, 0.61984, 0.34384,\n",
       "        0.64482]),\n",
       " array([0.52386, 0.5242 , 0.59956, 0.63664, 0.52222, 0.38706, 0.13756,\n",
       "        0.546  , 0.6085 , 0.56986, 0.3084 , 0.59708, 0.58556, 0.31222,\n",
       "        0.52662, 0.43596, 0.41476, 0.55218, 0.49464, 0.64658, 0.3049 ,\n",
       "        0.51586, 0.49368, 0.5862 , 0.4718 , 0.44606, 0.57496, 0.5882 ,\n",
       "        0.51688, 0.51322, 0.4912 , 0.58638, 0.63276, 0.54198, 0.59752,\n",
       "        0.55704, 0.35458, 0.57894, 0.44848, 0.6102 , 0.64138, 0.59708,\n",
       "        0.62058, 0.3414 , 0.6021 , 0.49634, 0.59222, 0.5901 , 0.4152 ,\n",
       "        0.3582 , 0.49872, 0.49768, 0.55706, 0.63742, 0.38192, 0.44538,\n",
       "        0.6207 , 0.55246, 0.56068, 0.60214, 0.56842, 0.2651 , 0.55046,\n",
       "        0.41744]),\n",
       " array([0.39578, 0.21378, 0.54432, 0.44652, 0.0502 , 0.07498, 0.48496,\n",
       "        0.42636, 0.51292, 0.51486, 0.39086, 0.34598, 0.10924, 0.60506,\n",
       "        0.4303 , 0.48992, 0.37628, 0.11568, 0.28126, 0.36316, 0.16964,\n",
       "        0.48554, 0.14436, 0.4291 , 0.5552 , 0.57172, 0.48496, 0.55726,\n",
       "        0.48348, 0.18988, 0.47292, 0.55948, 0.53758, 0.52152, 0.36442,\n",
       "        0.32116, 0.53772, 0.48536, 0.5193 , 0.36634, 0.2635 , 0.54112,\n",
       "        0.39836, 0.39608, 0.34958, 0.37628, 0.42344, 0.52718, 0.4916 ,\n",
       "        0.43736, 0.2017 , 0.38672, 0.04504, 0.47698, 0.0557 , 0.05882,\n",
       "        0.56022, 0.44914, 0.45566, 0.44586, 0.3909 , 0.29634, 0.4503 ,\n",
       "        0.56554]),\n",
       " array([0.07334, 0.37382, 0.42834, 0.2465 , 0.09666, 0.20508, 0.2629 ,\n",
       "        0.17712, 0.41482, 0.04604, 0.05704, 0.011  , 0.3258 , 0.17842,\n",
       "        0.28466, 0.2203 , 0.15798, 0.24474, 0.37488, 0.2553 , 0.21738,\n",
       "        0.4785 , 0.36478, 0.35944, 0.1223 , 0.08938, 0.42134, 0.15978,\n",
       "        0.26212, 0.17002, 0.3994 , 0.38074, 0.25954, 0.12396, 0.20558,\n",
       "        0.25594, 0.2635 , 0.18512, 0.18574, 0.3201 , 0.24832, 0.34932,\n",
       "        0.04036, 0.0744 , 0.48264, 0.04414, 0.1264 , 0.33152, 0.2089 ,\n",
       "        0.31622, 0.31284, 0.13482, 0.40222, 0.31586, 0.34274, 0.03634,\n",
       "        0.25866, 0.0958 , 0.39274, 0.3258 , 0.30316, 0.26312, 0.21106,\n",
       "        0.45302]),\n",
       " array([0.01696, 0.06312, 0.29716, 0.20908, 0.03048, 0.10572, 0.03264,\n",
       "        0.36888, 0.21118, 0.02872, 0.03966, 0.22886, 0.1267 , 0.02246,\n",
       "        0.07672, 0.18338, 0.09544, 0.0251 , 0.08778, 0.01888, 0.28288,\n",
       "        0.1924 , 0.0362 , 0.0405 , 0.2349 , 0.1195 , 0.15722, 0.00708,\n",
       "        0.03064, 0.11028, 0.22698, 0.03576, 0.11278, 0.00626, 0.14872,\n",
       "        0.19848, 0.1456 , 0.05184, 0.21654, 0.02872, 0.30714, 0.02856,\n",
       "        0.05404, 0.10138, 0.02624, 0.2953 , 0.05654, 0.14942, 0.23248,\n",
       "        0.03388, 0.02732, 0.08552, 0.0774 , 0.17402, 0.1858 , 0.14166,\n",
       "        0.16102, 0.08186, 0.12682, 0.03392, 0.02544, 0.03858, 0.16772,\n",
       "        0.13286]),\n",
       " array([0.0116 , 0.00086, 0.09548, 0.02592, 0.01454, 0.0136 , 0.05676,\n",
       "        0.00622, 0.01506, 0.00866, 0.20548, 0.00342, 0.00126, 0.0136 ,\n",
       "        0.04012, 0.08352, 0.00488, 0.00422, 0.14434, 0.1323 , 0.07564,\n",
       "        0.02118, 0.04906, 0.16732, 0.14782, 0.00558, 0.00478, 0.03512,\n",
       "        0.02576, 0.14226, 0.0016 , 0.0099 , 0.06164, 0.05296, 0.14996,\n",
       "        0.00126, 0.00876, 0.01524, 0.00812, 0.04702, 0.08284, 0.023  ,\n",
       "        0.00574, 0.044  , 0.11054, 0.01712, 0.05484, 0.01406, 0.09478,\n",
       "        0.01114, 0.06426, 0.01816, 0.09664, 0.0767 , 0.13716, 0.01828,\n",
       "        0.00202, 0.0015 , 0.01102, 0.03082, 0.00082, 0.06074, 0.09036,\n",
       "        0.001  ]),\n",
       " array([0.00922, 0.00394, 0.0205 , 0.0079 , 0.01866, 0.06522, 0.01522,\n",
       "        0.00878, 0.0035 , 0.00962, 0.00168, 0.00438, 0.01398, 0.00182,\n",
       "        0.0037 , 0.01084, 0.02484, 0.02656, 0.00104, 0.00978, 0.04342,\n",
       "        0.0829 , 0.001  , 0.0012 , 0.0245 , 0.02032, 0.03106, 0.01308,\n",
       "        0.01668, 0.09944, 0.01718, 0.02026, 0.01374, 0.01054, 0.0076 ,\n",
       "        0.02468, 0.00522, 0.01354, 0.00522, 0.00544, 0.00112, 0.0231 ,\n",
       "        0.02922, 0.00408, 0.00252, 0.00112, 0.00528, 0.01458, 0.02762,\n",
       "        0.00202, 0.00294, 0.0022 , 0.00498, 0.035  , 0.06918, 0.01788,\n",
       "        0.0072 , 0.001  , 0.01688, 0.00354, 0.07618, 0.00598, 0.001  ,\n",
       "        0.00528]),\n",
       " array([0.003  , 0.0061 , 0.00376, 0.01178, 0.01656, 0.00246, 0.01146,\n",
       "        0.0113 , 0.00112, 0.00772, 0.00598, 0.00566, 0.001  , 0.01668,\n",
       "        0.0094 , 0.00754, 0.0056 , 0.0094 , 0.00584, 0.00732, 0.00104,\n",
       "        0.00076, 0.00308, 0.01298, 0.00328, 0.00198, 0.01544, 0.00578,\n",
       "        0.00642, 0.001  , 0.0094 , 0.00214, 0.00974, 0.00758, 0.0335 ,\n",
       "        0.00198, 0.0147 , 0.01058, 0.00804, 0.00314, 0.0053 , 0.0061 ,\n",
       "        0.00574, 0.001  , 0.00346, 0.00794, 0.00456, 0.00484, 0.00102,\n",
       "        0.00334, 0.001  , 0.0016 , 0.00622, 0.00374, 0.001  , 0.00614,\n",
       "        0.0036 , 0.00112, 0.00808, 0.00682, 0.00794, 0.02106, 0.00496,\n",
       "        0.01352]),\n",
       " array([0.0021 , 0.00298, 0.00148, 0.001  , 0.00148, 0.00272, 0.00536,\n",
       "        0.0024 , 0.00272, 0.00518, 0.00134, 0.0045 , 0.00264, 0.00206,\n",
       "        0.00278, 0.00244, 0.00232, 0.001  , 0.001  , 0.00264, 0.0021 ,\n",
       "        0.00316, 0.00198, 0.00356, 0.00448, 0.0033 , 0.00214, 0.00198,\n",
       "        0.002  , 0.00332, 0.00396, 0.00294, 0.002  , 0.0011 , 0.00348,\n",
       "        0.00776, 0.002  , 0.00486, 0.00102, 0.00232, 0.00206, 0.00234,\n",
       "        0.0029 , 0.00684, 0.00448, 0.00374, 0.0024 , 0.0086 , 0.00612,\n",
       "        0.00124, 0.00278, 0.00396, 0.00218, 0.00102, 0.0049 , 0.00448,\n",
       "        0.00294, 0.00122, 0.0036 , 0.00536, 0.0024 , 0.0036 , 0.001  ,\n",
       "        0.00536]),\n",
       " array([0.001  , 0.00114, 0.00298, 0.00172, 0.00274, 0.00156, 0.00426,\n",
       "        0.00248, 0.00394, 0.00222, 0.00222, 0.00194, 0.00322, 0.00246,\n",
       "        0.00246]),\n",
       " array([0.00232])]"
      ]
     },
     "execution_count": 33,
     "metadata": {},
     "output_type": "execute_result"
    }
   ],
   "source": [
    "res['over_accs']"
   ]
  },
  {
   "cell_type": "code",
   "execution_count": 34,
   "metadata": {},
   "outputs": [
    {
     "data": {
      "text/plain": [
       "[array([1.]),\n",
       " array([0.94614685, 0.94614685, 0.93390083, 0.94658506, 0.94658506,\n",
       "        0.94658506, 0.93422949, 0.94680417, 0.94680417, 0.94680417,\n",
       "        0.94680417, 0.94680417, 0.93439388, 0.94691372, 0.94691372]),\n",
       " array([0.89295101, 0.89295101, 0.89317012, 0.88048589, 0.89295101,\n",
       "        0.89360833, 0.89371794, 0.89295101, 0.8803764 , 0.89229369,\n",
       "        0.89349884, 0.89360833, 0.89295101, 0.89338923, 0.89360833,\n",
       "        0.88103372, 0.89338928, 0.89338923, 0.8813076 , 0.88054073,\n",
       "        0.86829472, 0.88103372, 0.89317012, 0.88048589, 0.88097894,\n",
       "        0.89306062, 0.8803764 , 0.89349878, 0.89338923, 0.88097894,\n",
       "        0.89295101, 0.89360839, 0.8803764 , 0.89295101, 0.89349878,\n",
       "        0.89360833, 0.89382744, 0.89338923, 0.89338923, 0.89229369,\n",
       "        0.89338923, 0.88097894, 0.89306062, 0.89349884, 0.8803764 ,\n",
       "        0.89338923, 0.89371794, 0.88048589, 0.89349878, 0.89338923,\n",
       "        0.89338923, 0.89371794, 0.89295101, 0.89360833, 0.880705  ,\n",
       "        0.89338923, 0.88070506, 0.88081455, 0.89371794, 0.89360833,\n",
       "        0.89338923, 0.89349878, 0.8813076 , 0.8927319 ]),\n",
       " array([0.83909786, 0.83997434, 0.82729012, 0.83975524, 0.83986479,\n",
       "        0.82718056, 0.83887875, 0.84019345, 0.83953613, 0.84052217,\n",
       "        0.82761884, 0.84019345, 0.82745445, 0.81520844, 0.82761878,\n",
       "        0.82707101, 0.82712579, 0.82729018, 0.84041256, 0.82778311,\n",
       "        0.83975524, 0.82718056, 0.83953607, 0.84052217, 0.84041256,\n",
       "        0.84019345, 0.83909786, 0.827564  , 0.83964568, 0.82729018,\n",
       "        0.84019345, 0.82739967, 0.8400839 , 0.84019345, 0.84063166,\n",
       "        0.83975524, 0.82750922, 0.82729018, 0.82761878, 0.84019345,\n",
       "        0.82778311, 0.82712579, 0.82745445, 0.82739967, 0.83953613,\n",
       "        0.840303  , 0.84019351, 0.82783794, 0.82739967, 0.84019345,\n",
       "        0.84019345, 0.8279475 , 0.82739967, 0.82750928, 0.82668757,\n",
       "        0.82696146, 0.81509888, 0.82783794, 0.82729018, 0.84041262,\n",
       "        0.83953607, 0.83975524, 0.82800221, 0.82778311]),\n",
       " array([0.78590208, 0.77398479, 0.78666902, 0.78666902, 0.77343702,\n",
       "        0.78710723, 0.7863403 , 0.77464211, 0.78677857, 0.76135528,\n",
       "        0.7742039 , 0.76146483, 0.7742039 , 0.78721678, 0.77392995,\n",
       "        0.77398479, 0.78634036, 0.78721678, 0.78568298, 0.77436817,\n",
       "        0.7865594 , 0.774423  , 0.77431345, 0.78655946, 0.78666902,\n",
       "        0.77431345, 0.77409434, 0.774423  , 0.78677857, 0.77436823,\n",
       "        0.78623074, 0.77354652, 0.78710723, 0.774423  , 0.774423  ,\n",
       "        0.77387524, 0.78710723, 0.77486122, 0.77387524, 0.77349174,\n",
       "        0.77376568, 0.74932843, 0.76157439, 0.78699768, 0.78666902,\n",
       "        0.78655946, 0.77469689, 0.77354658, 0.77365613, 0.78710723,\n",
       "        0.76124579, 0.78721678, 0.77409434, 0.76168394, 0.77414912,\n",
       "        0.78568298, 0.77447778, 0.78644991, 0.78666896, 0.77425861,\n",
       "        0.76201266, 0.77409434, 0.77475166, 0.77458733]),\n",
       " array([0.7324872 , 0.72035074, 0.73336363, 0.72002208, 0.73325408,\n",
       "        0.7339114 , 0.72100806, 0.69558483, 0.72056985, 0.72078896,\n",
       "        0.73303497, 0.72078896, 0.73314452, 0.73380184, 0.7324872 ,\n",
       "        0.72062463, 0.72100806, 0.72078896, 0.72073418, 0.72089851,\n",
       "        0.70832384, 0.73358274, 0.72095329, 0.70826912, 0.73270631,\n",
       "        0.72133672, 0.72078896, 0.7339114 , 0.72111762, 0.71980298,\n",
       "        0.70815957, 0.70837867, 0.72155583, 0.7324872 , 0.72150105,\n",
       "        0.70744741, 0.72073418, 0.70815951, 0.73402095, 0.70826906,\n",
       "        0.72106284, 0.73259676, 0.72139156, 0.7324872 , 0.7204603 ,\n",
       "        0.72122717, 0.72100806, 0.72150105, 0.72133672, 0.73325408,\n",
       "        0.73237765, 0.72150105, 0.73281586, 0.73237765, 0.73358274,\n",
       "        0.72089851, 0.72133672, 0.7206794 , 0.7206794 , 0.73292542,\n",
       "        0.72035074, 0.72100806, 0.70810473, 0.73358274]),\n",
       " array([0.67907226, 0.66704535, 0.66704535, 0.6676479 , 0.66814095,\n",
       "        0.66682625, 0.65468985, 0.65507329, 0.67994869, 0.66770273,\n",
       "        0.68038696, 0.67940092, 0.65485418, 0.66748357, 0.66710019,\n",
       "        0.65529239, 0.66781229, 0.66731924, 0.65452552, 0.68049645,\n",
       "        0.65512806, 0.66797662, 0.65501851, 0.6541968 , 0.64304638,\n",
       "        0.66770273, 0.67940092, 0.66742879, 0.65458024, 0.65474463,\n",
       "        0.66781229, 0.65463507, 0.67940092, 0.6675384 , 0.66753834,\n",
       "        0.65562105, 0.65523762, 0.66808617, 0.66814095, 0.66742885,\n",
       "        0.6800583 , 0.67940092, 0.67918181, 0.66748357, 0.68082517,\n",
       "        0.65507329, 0.66682625, 0.66649759, 0.65523762, 0.65441597,\n",
       "        0.6673193 , 0.65392298, 0.6545803 , 0.66748357, 0.66836005,\n",
       "        0.6669358 , 0.66764796, 0.66726452, 0.65419686, 0.66748363,\n",
       "        0.66699064, 0.65562105, 0.66786706, 0.65523762]),\n",
       " array([0.62587649, 0.58908373, 0.6263147 , 0.61505473, 0.6010558 ,\n",
       "        0.60083669, 0.62598604, 0.61417824, 0.62598604, 0.61417824,\n",
       "        0.60209662, 0.60154879, 0.60171312, 0.62664336, 0.61319226,\n",
       "        0.61472601, 0.61439735, 0.61494517, 0.61297315, 0.58930284,\n",
       "        0.61494511, 0.62620515, 0.58864552, 0.60143924, 0.61423302,\n",
       "        0.60154879, 0.62598604, 0.62620515, 0.60176796, 0.60182267,\n",
       "        0.60231572, 0.62686247, 0.62598604, 0.6137948 , 0.62576693,\n",
       "        0.61461645, 0.60187751, 0.61428779, 0.61374003, 0.61445212,\n",
       "        0.60193229, 0.62653381, 0.60072714, 0.58886456, 0.60264438,\n",
       "        0.61439735, 0.62686247, 0.61417824, 0.61395913, 0.60111058,\n",
       "        0.61450696, 0.61478078, 0.58930284, 0.61412346, 0.61352092,\n",
       "        0.61352092, 0.62697202, 0.61406869, 0.61406869, 0.61467123,\n",
       "        0.60111058, 0.61374003, 0.60209662, 0.61330181]),\n",
       " array([0.55977732, 0.56076336, 0.56059897, 0.56153023, 0.53555924,\n",
       "        0.54846257, 0.57279021, 0.56065381, 0.57289976, 0.54796958,\n",
       "        0.5479148 , 0.54829824, 0.54857212, 0.54813391, 0.56131113,\n",
       "        0.53621656, 0.53523058, 0.54868168, 0.57289976, 0.54753131,\n",
       "        0.54813391, 0.54835302, 0.57268065, 0.54857212, 0.5486269 ,\n",
       "        0.56153023, 0.56048948, 0.56059903, 0.5725711 , 0.56142068,\n",
       "        0.54868168, 0.54802436, 0.56092769, 0.54796958, 0.56092769,\n",
       "        0.53654522, 0.5358879 , 0.54944855, 0.56054419, 0.54824346,\n",
       "        0.54758614, 0.54802436, 0.54879123, 0.54840779, 0.56059897,\n",
       "        0.56043464, 0.56054425, 0.56087291, 0.56054419, 0.5738858 ,\n",
       "        0.54813391, 0.54802436, 0.54775047, 0.54818869, 0.56016076,\n",
       "        0.536107  , 0.5358879 , 0.53544968, 0.56081814, 0.54857212,\n",
       "        0.56098247, 0.54780525, 0.54868168, 0.54846257]),\n",
       " array([0.50636244, 0.50745797, 0.50718409, 0.50767708, 0.48291123,\n",
       "        0.49537635, 0.50712931, 0.50712931, 0.50756752, 0.49471897,\n",
       "        0.5066911 , 0.49439031, 0.50767708, 0.49543113, 0.49411643,\n",
       "        0.48269212, 0.49471897, 0.49411643, 0.48269212, 0.50712931,\n",
       "        0.50696498, 0.4954859 , 0.48302078, 0.49570501, 0.50696498,\n",
       "        0.50751275, 0.52003264, 0.48247296, 0.50789618, 0.49493808,\n",
       "        0.50784141, 0.49400687, 0.49433553, 0.48258257, 0.49559546,\n",
       "        0.52003264, 0.49455464, 0.49477375, 0.48170608, 0.48280168,\n",
       "        0.50718409, 0.50723886, 0.50734842, 0.49449986, 0.50712931,\n",
       "        0.50718409, 0.48170608, 0.49504763, 0.49504763, 0.50712931,\n",
       "        0.48225385, 0.48269212, 0.4823634 , 0.49504769, 0.48247302,\n",
       "        0.49460942, 0.48203474, 0.49526674, 0.4823634 , 0.50767708,\n",
       "        0.48236346, 0.48334944, 0.49504769, 0.50745797]),\n",
       " array([0.44075626, 0.44185185, 0.4417423 , 0.42861986, 0.42927718,\n",
       "        0.42861986, 0.45398831, 0.42905807, 0.44163275, 0.44135886,\n",
       "        0.45371437, 0.42883897, 0.44207096, 0.42861986, 0.45459086,\n",
       "        0.45453608, 0.42840075, 0.44135886, 0.44207096, 0.4538787 ,\n",
       "        0.4544813 , 0.44250917, 0.45349526, 0.45431697, 0.46617949,\n",
       "        0.42861986, 0.44163275, 0.45360482, 0.44168752, 0.44124931,\n",
       "        0.42938673, 0.42905807, 0.45442653, 0.44141364, 0.44141364,\n",
       "        0.44250917, 0.42894852, 0.44097537, 0.44146842, 0.45475519,\n",
       "        0.44207096, 0.45393348, 0.44092059, 0.44113976, 0.44119453,\n",
       "        0.44097537, 0.44190663, 0.42971539, 0.44092059, 0.4282912 ,\n",
       "        0.42949629, 0.44103014, 0.45371437, 0.44218051, 0.46694636,\n",
       "        0.44212574, 0.42938673, 0.44272828, 0.4531666 , 0.4417423 ,\n",
       "        0.44229007, 0.44092059, 0.44124931, 0.44272828]),\n",
       " array([0.38767004, 0.38821781, 0.38849169, 0.37542403, 0.40040904,\n",
       "        0.4005186 , 0.37608141, 0.38843691, 0.37498581, 0.37509537,\n",
       "        0.37597182, 0.38898474, 0.37531447, 0.38761526, 0.37531447,\n",
       "        0.37608141, 0.38887519, 0.40062815, 0.37619096, 0.40062815,\n",
       "        0.38821781, 0.41309327, 0.37619093, 0.38843691, 0.40095681,\n",
       "        0.37608141, 0.38854647, 0.38871083, 0.37630051, 0.40134025,\n",
       "        0.37564316, 0.38821781, 0.40084726, 0.40008038, 0.38777959,\n",
       "        0.40106636, 0.37630051, 0.38832736, 0.37498581, 0.38794392,\n",
       "        0.37597185, 0.40117592, 0.37542403, 0.37520492, 0.37564313,\n",
       "        0.37597185, 0.38761526, 0.40040904, 0.37608141, 0.37564313,\n",
       "        0.37597182, 0.38865605, 0.38777959, 0.38865602, 0.4007377 ,\n",
       "        0.37542403, 0.38827258, 0.37619096, 0.38843691, 0.37575272,\n",
       "        0.38832736, 0.37630051, 0.37619096, 0.37531447]),\n",
       " array([0.32189959, 0.33513159, 0.32189959, 0.34732279, 0.33491248,\n",
       "        0.32266647, 0.33524114, 0.32288557, 0.32255691, 0.32266647,\n",
       "        0.32189959, 0.32222825, 0.32233781, 0.33546025, 0.33491248,\n",
       "        0.33589846, 0.3355698 , 0.33491248, 0.33458379, 0.33529592,\n",
       "        0.33502203, 0.33469337, 0.32189959, 0.32244736, 0.3221187 ,\n",
       "        0.33480293, 0.33480293, 0.3348577 , 0.33507681, 0.3221187 ,\n",
       "        0.33546025, 0.32310468, 0.34765145, 0.33524114, 0.33480293,\n",
       "        0.33480293, 0.32222825, 0.32222825, 0.32266647, 0.32222825,\n",
       "        0.33430991, 0.33507681, 0.32288557, 0.32277602, 0.33578891,\n",
       "        0.33480293, 0.3221187 , 0.32244736, 0.32233781, 0.33622712,\n",
       "        0.32321423, 0.3221187 , 0.32288557, 0.32288557, 0.32277602,\n",
       "        0.32222825, 0.33535069, 0.32255691, 0.34721324, 0.33458379,\n",
       "        0.33480293, 0.34732279, 0.33447424, 0.32222825]),\n",
       " array([0.26870376, 0.28193578, 0.26870376, 0.26859421, 0.26870376,\n",
       "        0.26947066, 0.2820453 , 0.2696898 , 0.26947066, 0.28171664,\n",
       "        0.26870376, 0.28138798, 0.28144276, 0.2696898 , 0.2811141 ,\n",
       "        0.27012801, 0.26870376, 0.26892287, 0.26892287, 0.28144276,\n",
       "        0.26881331, 0.26903245, 0.26903245, 0.26903245, 0.26903245,\n",
       "        0.26947066, 0.26870376, 0.26947066, 0.26903245, 0.28188097,\n",
       "        0.26903245, 0.28193578, 0.26903245, 0.26892287, 0.26947066,\n",
       "        0.28171664, 0.26903245, 0.28122365, 0.26936111, 0.26870376,\n",
       "        0.2696898 , 0.2696898 , 0.26903245, 0.29379833, 0.26903245,\n",
       "        0.28144276, 0.2696898 , 0.28138798, 0.28122365, 0.28160709,\n",
       "        0.2811141 , 0.26903245, 0.26925156, 0.26936111, 0.28171664,\n",
       "        0.26903245, 0.28193578, 0.26870376, 0.28193578, 0.2820453 ,\n",
       "        0.28122365, 0.28127843, 0.26892287, 0.2820453 ]),\n",
       " array([0.21550797, 0.21550797, 0.22802785, 0.21561752, 0.21561752,\n",
       "        0.21561752, 0.21561752, 0.21561752, 0.22819218, 0.21583664,\n",
       "        0.21583664, 0.21583664, 0.22852086, 0.21627486, 0.21627486]),\n",
       " array([0.16242172])]"
      ]
     },
     "execution_count": 34,
     "metadata": {},
     "output_type": "execute_result"
    }
   ],
   "source": [
    "res['macs_total']"
   ]
  },
  {
   "cell_type": "code",
   "execution_count": 37,
   "metadata": {},
   "outputs": [
    {
     "data": {
      "text/plain": [
       "array([0.77044, 0.7673 , 0.76046, 0.74746, 0.76112])"
      ]
     },
     "execution_count": 37,
     "metadata": {},
     "output_type": "execute_result"
    }
   ],
   "source": [
    "accs = np.concatenate(res['over_accs'])\n",
    "accs[:5]"
   ]
  },
  {
   "cell_type": "code",
   "execution_count": 39,
   "metadata": {},
   "outputs": [
    {
     "data": {
      "text/plain": [
       "array([0.21583664, 0.22852086, 0.21627486, 0.21627486, 0.16242172])"
      ]
     },
     "execution_count": 39,
     "metadata": {},
     "output_type": "execute_result"
    }
   ],
   "source": [
    "macs = np.concatenate(res['macs_total'])\n",
    "macs[-5:]"
   ]
  },
  {
   "cell_type": "code",
   "execution_count": 41,
   "metadata": {},
   "outputs": [],
   "source": [
    "res_vis = {\"accs\": accs, \"macs\": macs}"
   ]
  },
  {
   "cell_type": "markdown",
   "metadata": {},
   "source": [
    "## dataframe"
   ]
  },
  {
   "cell_type": "code",
   "execution_count": 40,
   "metadata": {},
   "outputs": [],
   "source": [
    "import pandas as pd"
   ]
  },
  {
   "cell_type": "code",
   "execution_count": 42,
   "metadata": {},
   "outputs": [
    {
     "data": {
      "text/html": [
       "<div>\n",
       "<style scoped>\n",
       "    .dataframe tbody tr th:only-of-type {\n",
       "        vertical-align: middle;\n",
       "    }\n",
       "\n",
       "    .dataframe tbody tr th {\n",
       "        vertical-align: top;\n",
       "    }\n",
       "\n",
       "    .dataframe thead th {\n",
       "        text-align: right;\n",
       "    }\n",
       "</style>\n",
       "<table border=\"1\" class=\"dataframe\">\n",
       "  <thead>\n",
       "    <tr style=\"text-align: right;\">\n",
       "      <th></th>\n",
       "      <th>accs</th>\n",
       "      <th>macs</th>\n",
       "    </tr>\n",
       "  </thead>\n",
       "  <tbody>\n",
       "    <tr>\n",
       "      <th>0</th>\n",
       "      <td>0.77044</td>\n",
       "      <td>1.000000</td>\n",
       "    </tr>\n",
       "    <tr>\n",
       "      <th>1</th>\n",
       "      <td>0.76730</td>\n",
       "      <td>0.946147</td>\n",
       "    </tr>\n",
       "    <tr>\n",
       "      <th>2</th>\n",
       "      <td>0.76046</td>\n",
       "      <td>0.946147</td>\n",
       "    </tr>\n",
       "    <tr>\n",
       "      <th>3</th>\n",
       "      <td>0.74746</td>\n",
       "      <td>0.933901</td>\n",
       "    </tr>\n",
       "    <tr>\n",
       "      <th>4</th>\n",
       "      <td>0.76112</td>\n",
       "      <td>0.946585</td>\n",
       "    </tr>\n",
       "    <tr>\n",
       "      <th>...</th>\n",
       "      <td>...</td>\n",
       "      <td>...</td>\n",
       "    </tr>\n",
       "    <tr>\n",
       "      <th>795</th>\n",
       "      <td>0.00194</td>\n",
       "      <td>0.215837</td>\n",
       "    </tr>\n",
       "    <tr>\n",
       "      <th>796</th>\n",
       "      <td>0.00322</td>\n",
       "      <td>0.228521</td>\n",
       "    </tr>\n",
       "    <tr>\n",
       "      <th>797</th>\n",
       "      <td>0.00246</td>\n",
       "      <td>0.216275</td>\n",
       "    </tr>\n",
       "    <tr>\n",
       "      <th>798</th>\n",
       "      <td>0.00246</td>\n",
       "      <td>0.216275</td>\n",
       "    </tr>\n",
       "    <tr>\n",
       "      <th>799</th>\n",
       "      <td>0.00232</td>\n",
       "      <td>0.162422</td>\n",
       "    </tr>\n",
       "  </tbody>\n",
       "</table>\n",
       "<p>800 rows × 2 columns</p>\n",
       "</div>"
      ],
      "text/plain": [
       "        accs      macs\n",
       "0    0.77044  1.000000\n",
       "1    0.76730  0.946147\n",
       "2    0.76046  0.946147\n",
       "3    0.74746  0.933901\n",
       "4    0.76112  0.946585\n",
       "..       ...       ...\n",
       "795  0.00194  0.215837\n",
       "796  0.00322  0.228521\n",
       "797  0.00246  0.216275\n",
       "798  0.00246  0.216275\n",
       "799  0.00232  0.162422\n",
       "\n",
       "[800 rows x 2 columns]"
      ]
     },
     "execution_count": 42,
     "metadata": {},
     "output_type": "execute_result"
    }
   ],
   "source": [
    "df = pd.DataFrame(res_vis)\n",
    "df"
   ]
  },
  {
   "cell_type": "code",
   "execution_count": 46,
   "metadata": {},
   "outputs": [
    {
     "data": {
      "image/png": "[encoded data removed]",
      "text/plain": [
       "<Figure size 640x480 with 1 Axes>"
      ]
     },
     "metadata": {},
     "output_type": "display_data"
    }
   ],
   "source": [
    "import pandas as pd\n",
    "import seaborn as sns\n",
    "import matplotlib.pyplot as plt\n",
    "\n",
    "\n",
    "\n",
    "# Using Seaborn to plot\n",
    "sns.scatterplot(data=df, x='macs', y='accs', color='blue', s=40)\n",
    "\n",
    "plt.xlim(0, 1.1)\n",
    "plt.ylim(-0.1, 1.1)\n",
    "plt.grid(True, which='both', linestyle='--', linewidth=0.5)\n",
    "plt.title('Scatter Plot of accs vs macs')\n",
    "plt.show()\n"
   ]
  },
  {
   "cell_type": "code",
   "execution_count": null,
   "metadata": {},
   "outputs": [],
   "source": []
  }
 ],
 "metadata": {
  "kernelspec": {
   "display_name": "py39",
   "language": "python",
   "name": "python3"
  },
  "language_info": {
   "codemirror_mode": {
    "name": "ipython",
    "version": 3
   },
   "file_extension": ".py",
   "mimetype": "text/x-python",
   "name": "python",
   "nbconvert_exporter": "python",
   "pygments_lexer": "ipython3",
   "version": "3.9.16"
  }
 },
 "nbformat": 4,
 "nbformat_minor": 2
}
