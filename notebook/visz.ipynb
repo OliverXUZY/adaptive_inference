{
 "cells": [
  {
   "cell_type": "code",
   "execution_count": 2,
   "metadata": {},
   "outputs": [],
   "source": [
    "import os\n",
    "os.chdir(\"/home/zhuoyan/vision/adaptive_inference\")\n",
    "import numpy as np\n",
    "from collections import defaultdict \n"
   ]
  },
  {
   "cell_type": "code",
   "execution_count": 3,
   "metadata": {},
   "outputs": [],
   "source": [
    "# data_path = \"/Users/zyxu/Documents/py/vision/adaptive_inference/log/resnet50_imagenet\"\n",
    "data_path = \"/home/zhuoyan/vision/adaptive_inference/log/subset5000/testEval_resnet18_imagenet\""
   ]
  },
  {
   "cell_type": "code",
   "execution_count": 5,
   "metadata": {},
   "outputs": [],
   "source": [
    "res = defaultdict(list)\n",
    "for i in range(8):\n",
    "    file = f\"resnet18_imagenet_skip{i}.npz\"\n",
    "    data = np.load(f\"{data_path}/{file}\")\n",
    "    for key in data:\n",
    "        res[key].append(data[key])"
   ]
  },
  {
   "cell_type": "code",
   "execution_count": 6,
   "metadata": {},
   "outputs": [
    {
     "data": {
      "text/plain": [
       "dict_keys(['masks', 'accs', 'over_accs', 'macs_total'])"
      ]
     },
     "execution_count": 6,
     "metadata": {},
     "output_type": "execute_result"
    }
   ],
   "source": [
    "res.keys()"
   ]
  },
  {
   "cell_type": "code",
   "execution_count": 7,
   "metadata": {},
   "outputs": [
    {
     "data": {
      "text/plain": [
       "[array([0.7124]),\n",
       " array([0.6752, 0.674 , 0.6836, 0.6714, 0.6734, 0.6512, 0.6434]),\n",
       " array([0.5566, 0.6022, 0.611 , 0.6194, 0.607 , 0.6066, 0.5286, 0.5938,\n",
       "        0.6038, 0.5994, 0.5996, 0.5642, 0.602 , 0.5992, 0.6038, 0.497 ,\n",
       "        0.566 , 0.582 , 0.5254, 0.5702, 0.4884]),\n",
       " array([0.1568, 0.4126, 0.4348, 0.464 , 0.4648, 0.429 , 0.4784, 0.5086,\n",
       "        0.5222, 0.3928, 0.4982, 0.5232, 0.4406, 0.5058, 0.4382, 0.2032,\n",
       "        0.3206, 0.4152, 0.4344, 0.3368, 0.4656, 0.491 , 0.4282, 0.4928,\n",
       "        0.4338, 0.2956, 0.4362, 0.4688, 0.4064, 0.4826, 0.436 , 0.228 ,\n",
       "        0.351 , 0.3802, 0.318 ]),\n",
       " array([0.0276, 0.0386, 0.097 , 0.1048, 0.1578, 0.2936, 0.319 , 0.2642,\n",
       "        0.3208, 0.2992, 0.1334, 0.2964, 0.3384, 0.2888, 0.353 , 0.3434,\n",
       "        0.1426, 0.257 , 0.311 , 0.241 , 0.0362, 0.13  , 0.132 , 0.1694,\n",
       "        0.1976, 0.256 , 0.1042, 0.202 , 0.2774, 0.2252, 0.1028, 0.1854,\n",
       "        0.2594, 0.2216, 0.0782]),\n",
       " array([0.0066, 0.0194, 0.0196, 0.0258, 0.0276, 0.0492, 0.0364, 0.0778,\n",
       "        0.1472, 0.1106, 0.0396, 0.0808, 0.147 , 0.1182, 0.0424, 0.0164,\n",
       "        0.022 , 0.0544, 0.069 , 0.0316, 0.0388]),\n",
       " array([0.0062, 0.0048, 0.0108, 0.014 , 0.0136, 0.0172, 0.0104]),\n",
       " array([0.0058])]"
      ]
     },
     "execution_count": 7,
     "metadata": {},
     "output_type": "execute_result"
    }
   ],
   "source": [
    "res['over_accs']"
   ]
  },
  {
   "cell_type": "code",
   "execution_count": 8,
   "metadata": {},
   "outputs": [
    {
     "data": {
      "text/plain": [
       "[array([1.]),\n",
       " array([0.8724519 , 0.90450418, 0.87278247, 0.9046694 , 0.87294757,\n",
       "        0.90475202, 0.87303019]),\n",
       " array([0.77695608, 0.74523437, 0.77712131, 0.74539959, 0.77720392,\n",
       "        0.74548221, 0.77728653, 0.80917358, 0.77745175, 0.8092562 ,\n",
       "        0.77753437, 0.77745175, 0.74573004, 0.77753437, 0.74581265,\n",
       "        0.77761698, 0.80942142, 0.77769959, 0.77769959, 0.74597788,\n",
       "        0.7777822 ]),\n",
       " array([0.64973855, 0.68162549, 0.64990366, 0.6817081 , 0.64998627,\n",
       "        0.64990377, 0.61818194, 0.64998633, 0.61826456, 0.65006894,\n",
       "        0.68187332, 0.65015155, 0.65015149, 0.61842978, 0.6502341 ,\n",
       "        0.68195593, 0.65023416, 0.68203855, 0.65031672, 0.68212116,\n",
       "        0.7139256 , 0.68220377, 0.68220377, 0.65048194, 0.68228638,\n",
       "        0.65039945, 0.68220377, 0.650482  , 0.650482  , 0.61876023,\n",
       "        0.65056455, 0.68236899, 0.65064722, 0.68245161, 0.65072978]),\n",
       " array([0.55440789, 0.52268612, 0.55449051, 0.52276874, 0.55457306,\n",
       "        0.5863775 , 0.55465567, 0.55465567, 0.52293396, 0.55473828,\n",
       "        0.52285135, 0.55465567, 0.52293396, 0.52293396, 0.49121213,\n",
       "        0.52301651, 0.5548209 , 0.52309918, 0.55490351, 0.52318174,\n",
       "        0.55490351, 0.58670795, 0.55498612, 0.55498612, 0.52326435,\n",
       "        0.55506873, 0.58687317, 0.55515134, 0.58695579, 0.55523396,\n",
       "        0.55515134, 0.52342963, 0.55523396, 0.52351218, 0.55539918]),\n",
       " array([0.4273555 , 0.45915988, 0.42743808, 0.42743811, 0.39571631,\n",
       "        0.42752069, 0.4593251 , 0.4276033 , 0.45940772, 0.42768592,\n",
       "        0.42760333, 0.39588153, 0.42768592, 0.39596415, 0.42785114,\n",
       "        0.45965555, 0.42793375, 0.45973817, 0.42801636, 0.45990339,\n",
       "        0.42818159]),\n",
       " array([0.33210748, 0.30038571, 0.3321901 , 0.3004683 , 0.33235532,\n",
       "        0.30063352, 0.33268577]),\n",
       " array([0.2051377])]"
      ]
     },
     "execution_count": 8,
     "metadata": {},
     "output_type": "execute_result"
    }
   ],
   "source": [
    "res['macs_total']"
   ]
  },
  {
   "cell_type": "code",
   "execution_count": 9,
   "metadata": {},
   "outputs": [
    {
     "data": {
      "text/plain": [
       "array([0.7124, 0.6752, 0.674 , 0.6836, 0.6714])"
      ]
     },
     "execution_count": 9,
     "metadata": {},
     "output_type": "execute_result"
    }
   ],
   "source": [
    "accs = np.concatenate(res['over_accs'])\n",
    "accs[:5]"
   ]
  },
  {
   "cell_type": "code",
   "execution_count": 10,
   "metadata": {},
   "outputs": [
    {
     "data": {
      "text/plain": [
       "array([0.3004683 , 0.33235532, 0.30063352, 0.33268577, 0.2051377 ])"
      ]
     },
     "execution_count": 10,
     "metadata": {},
     "output_type": "execute_result"
    }
   ],
   "source": [
    "macs = np.concatenate(res['macs_total'])\n",
    "macs[-5:]"
   ]
  },
  {
   "cell_type": "code",
   "execution_count": 11,
   "metadata": {},
   "outputs": [],
   "source": [
    "res_vis = {\"accs\": accs, \"macs\": macs}"
   ]
  },
  {
   "cell_type": "markdown",
   "metadata": {},
   "source": [
    "## dataframe"
   ]
  },
  {
   "cell_type": "code",
   "execution_count": 12,
   "metadata": {},
   "outputs": [],
   "source": [
    "import pandas as pd"
   ]
  },
  {
   "cell_type": "code",
   "execution_count": 13,
   "metadata": {},
   "outputs": [
    {
     "data": {
      "text/html": [
       "<div>\n",
       "<style scoped>\n",
       "    .dataframe tbody tr th:only-of-type {\n",
       "        vertical-align: middle;\n",
       "    }\n",
       "\n",
       "    .dataframe tbody tr th {\n",
       "        vertical-align: top;\n",
       "    }\n",
       "\n",
       "    .dataframe thead th {\n",
       "        text-align: right;\n",
       "    }\n",
       "</style>\n",
       "<table border=\"1\" class=\"dataframe\">\n",
       "  <thead>\n",
       "    <tr style=\"text-align: right;\">\n",
       "      <th></th>\n",
       "      <th>accs</th>\n",
       "      <th>macs</th>\n",
       "    </tr>\n",
       "  </thead>\n",
       "  <tbody>\n",
       "    <tr>\n",
       "      <th>0</th>\n",
       "      <td>0.7124</td>\n",
       "      <td>1.000000</td>\n",
       "    </tr>\n",
       "    <tr>\n",
       "      <th>1</th>\n",
       "      <td>0.6752</td>\n",
       "      <td>0.872452</td>\n",
       "    </tr>\n",
       "    <tr>\n",
       "      <th>2</th>\n",
       "      <td>0.6740</td>\n",
       "      <td>0.904504</td>\n",
       "    </tr>\n",
       "    <tr>\n",
       "      <th>3</th>\n",
       "      <td>0.6836</td>\n",
       "      <td>0.872782</td>\n",
       "    </tr>\n",
       "    <tr>\n",
       "      <th>4</th>\n",
       "      <td>0.6714</td>\n",
       "      <td>0.904669</td>\n",
       "    </tr>\n",
       "    <tr>\n",
       "      <th>...</th>\n",
       "      <td>...</td>\n",
       "      <td>...</td>\n",
       "    </tr>\n",
       "    <tr>\n",
       "      <th>123</th>\n",
       "      <td>0.0140</td>\n",
       "      <td>0.300468</td>\n",
       "    </tr>\n",
       "    <tr>\n",
       "      <th>124</th>\n",
       "      <td>0.0136</td>\n",
       "      <td>0.332355</td>\n",
       "    </tr>\n",
       "    <tr>\n",
       "      <th>125</th>\n",
       "      <td>0.0172</td>\n",
       "      <td>0.300634</td>\n",
       "    </tr>\n",
       "    <tr>\n",
       "      <th>126</th>\n",
       "      <td>0.0104</td>\n",
       "      <td>0.332686</td>\n",
       "    </tr>\n",
       "    <tr>\n",
       "      <th>127</th>\n",
       "      <td>0.0058</td>\n",
       "      <td>0.205138</td>\n",
       "    </tr>\n",
       "  </tbody>\n",
       "</table>\n",
       "<p>128 rows × 2 columns</p>\n",
       "</div>"
      ],
      "text/plain": [
       "       accs      macs\n",
       "0    0.7124  1.000000\n",
       "1    0.6752  0.872452\n",
       "2    0.6740  0.904504\n",
       "3    0.6836  0.872782\n",
       "4    0.6714  0.904669\n",
       "..      ...       ...\n",
       "123  0.0140  0.300468\n",
       "124  0.0136  0.332355\n",
       "125  0.0172  0.300634\n",
       "126  0.0104  0.332686\n",
       "127  0.0058  0.205138\n",
       "\n",
       "[128 rows x 2 columns]"
      ]
     },
     "execution_count": 13,
     "metadata": {},
     "output_type": "execute_result"
    }
   ],
   "source": [
    "df = pd.DataFrame(res_vis)\n",
    "df"
   ]
  },
  {
   "cell_type": "code",
   "execution_count": 15,
   "metadata": {},
   "outputs": [
    {
     "data": {
      "image/png": "[encoded data removed]",
      "text/plain": [
       "<Figure size 640x480 with 1 Axes>"
      ]
     },
     "metadata": {},
     "output_type": "display_data"
    }
   ],
   "source": [
    "import pandas as pd\n",
    "import seaborn as sns\n",
    "import matplotlib.pyplot as plt\n",
    "\n",
    "\n",
    "\n",
    "# Using Seaborn to plot\n",
    "sns.scatterplot(data=df, x='macs', y='accs', color='blue', s=40)\n",
    "\n",
    "plt.xlim(0, 1.1)\n",
    "plt.ylim(-0.1, 1.1)\n",
    "plt.grid(True, which='both', linestyle='--', linewidth=0.5)\n",
    "plt.title('Scatter Plot of accs vs macs')\n",
    "plt.show()\n"
   ]
  },
  {
   "cell_type": "code",
   "execution_count": 16,
   "metadata": {},
   "outputs": [
    {
     "data": {
      "text/html": [
       "<div>\n",
       "<style scoped>\n",
       "    .dataframe tbody tr th:only-of-type {\n",
       "        vertical-align: middle;\n",
       "    }\n",
       "\n",
       "    .dataframe tbody tr th {\n",
       "        vertical-align: top;\n",
       "    }\n",
       "\n",
       "    .dataframe thead th {\n",
       "        text-align: right;\n",
       "    }\n",
       "</style>\n",
       "<table border=\"1\" class=\"dataframe\">\n",
       "  <thead>\n",
       "    <tr style=\"text-align: right;\">\n",
       "      <th></th>\n",
       "      <th>accs</th>\n",
       "      <th>macs</th>\n",
       "    </tr>\n",
       "  </thead>\n",
       "  <tbody>\n",
       "    <tr>\n",
       "      <th>0</th>\n",
       "      <td>0.7124</td>\n",
       "      <td>1.000000</td>\n",
       "    </tr>\n",
       "    <tr>\n",
       "      <th>1</th>\n",
       "      <td>0.6752</td>\n",
       "      <td>0.872452</td>\n",
       "    </tr>\n",
       "    <tr>\n",
       "      <th>2</th>\n",
       "      <td>0.6740</td>\n",
       "      <td>0.904504</td>\n",
       "    </tr>\n",
       "    <tr>\n",
       "      <th>3</th>\n",
       "      <td>0.6836</td>\n",
       "      <td>0.872782</td>\n",
       "    </tr>\n",
       "    <tr>\n",
       "      <th>4</th>\n",
       "      <td>0.6714</td>\n",
       "      <td>0.904669</td>\n",
       "    </tr>\n",
       "    <tr>\n",
       "      <th>...</th>\n",
       "      <td>...</td>\n",
       "      <td>...</td>\n",
       "    </tr>\n",
       "    <tr>\n",
       "      <th>123</th>\n",
       "      <td>0.0140</td>\n",
       "      <td>0.300468</td>\n",
       "    </tr>\n",
       "    <tr>\n",
       "      <th>124</th>\n",
       "      <td>0.0136</td>\n",
       "      <td>0.332355</td>\n",
       "    </tr>\n",
       "    <tr>\n",
       "      <th>125</th>\n",
       "      <td>0.0172</td>\n",
       "      <td>0.300634</td>\n",
       "    </tr>\n",
       "    <tr>\n",
       "      <th>126</th>\n",
       "      <td>0.0104</td>\n",
       "      <td>0.332686</td>\n",
       "    </tr>\n",
       "    <tr>\n",
       "      <th>127</th>\n",
       "      <td>0.0058</td>\n",
       "      <td>0.205138</td>\n",
       "    </tr>\n",
       "  </tbody>\n",
       "</table>\n",
       "<p>128 rows × 2 columns</p>\n",
       "</div>"
      ],
      "text/plain": [
       "       accs      macs\n",
       "0    0.7124  1.000000\n",
       "1    0.6752  0.872452\n",
       "2    0.6740  0.904504\n",
       "3    0.6836  0.872782\n",
       "4    0.6714  0.904669\n",
       "..      ...       ...\n",
       "123  0.0140  0.300468\n",
       "124  0.0136  0.332355\n",
       "125  0.0172  0.300634\n",
       "126  0.0104  0.332686\n",
       "127  0.0058  0.205138\n",
       "\n",
       "[128 rows x 2 columns]"
      ]
     },
     "execution_count": 16,
     "metadata": {},
     "output_type": "execute_result"
    }
   ],
   "source": [
    "df"
   ]
  },
  {
   "cell_type": "code",
   "execution_count": null,
   "metadata": {},
   "outputs": [],
   "source": []
  }
 ],
 "metadata": {
  "kernelspec": {
   "display_name": "py39",
   "language": "python",
   "name": "python3"
  },
  "language_info": {
   "codemirror_mode": {
    "name": "ipython",
    "version": 3
   },
   "file_extension": ".py",
   "mimetype": "text/x-python",
   "name": "python",
   "nbconvert_exporter": "python",
   "pygments_lexer": "ipython3",
   "version": "3.10.0"
  }
 },
 "nbformat": 4,
 "nbformat_minor": 2
}
