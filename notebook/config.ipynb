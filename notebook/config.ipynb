{
 "cells": [
  {
   "cell_type": "code",
   "execution_count": 11,
   "metadata": {},
   "outputs": [],
   "source": [
    "import yaml\n",
    "import os\n",
    "os.chdir(\"/home/zhuoyan/vision/branch_embedding\")\n",
    "from libs.core import load_config\n",
    "from libs.core.config import DEFAULTS"
   ]
  },
  {
   "cell_type": "code",
   "execution_count": 8,
   "metadata": {},
   "outputs": [],
   "source": [
    "config_file = \"/home/zhuoyan/vision/branch_embedding/configs/resnet18_cifar10.yaml\"\n",
    "with open(config_file, \"r\") as fd:\n",
    "        config = yaml.load(fd, Loader=yaml.FullLoader)"
   ]
  },
  {
   "cell_type": "code",
   "execution_count": 9,
   "metadata": {},
   "outputs": [
    {
     "data": {
      "text/plain": [
       "{'data': {'dataset': 'cifar10',\n",
       "  'root': './data/cifar10',\n",
       "  'downsample': True,\n",
       "  'train_split': 'train',\n",
       "  'val_split': 'test',\n",
       "  'batch_size': 64,\n",
       "  'num_workers': 8},\n",
       " 'model': {'resnet': {'arch': 'resnet18'},\n",
       "  'branch_enc': {'embd_dim': 256,\n",
       "   'out_dim': 128,\n",
       "   'n_heads': 4,\n",
       "   'n_layers': 5,\n",
       "   'attn_pdrop': 0.1,\n",
       "   'proj_pdrop': 0.1,\n",
       "   'path_pdrop': 0.1,\n",
       "   'eos': False,\n",
       "   'embd_type': 0,\n",
       "   'pe_type': 0},\n",
       "  'content_enc': {'out_dim': 128, 'arch': 'resnet8_cifar'},\n",
       "  'branch_vae': {'hid_dim': 32, 'n_layers': 3, 'latent_dim': 2}},\n",
       " 'opt': {'epochs': 20,\n",
       "  'warmup_epochs': 5,\n",
       "  'warmup': ['branch_enc', 'content_enc'],\n",
       "  'branch_enc': {'optim_type': 'adamw',\n",
       "   'lr': 0.001,\n",
       "   'weight_decay': 0.05,\n",
       "   'sched_type': 'cosine'},\n",
       "  'content_enc': {'optim_type': 'adamw',\n",
       "   'lr': 0.001,\n",
       "   'weight_decay': 0.05,\n",
       "   'sched_type': 'cosine'},\n",
       "  'branch_vae': None,\n",
       "  'clip_grad_norm': 1.0},\n",
       " 'train': {'n_branches': 64,\n",
       "  'k': 1,\n",
       "  'min_n_positives': 64,\n",
       "  'temperature': 10,\n",
       "  'delta_rs': 0.5,\n",
       "  'rank_weight': 1.0,\n",
       "  'sort_weight': 1.0,\n",
       "  'bce_weight': 0.0},\n",
       " 'eval': {'n_branches': 128, 'max_macs': 1, 'batch_size': 128}}"
      ]
     },
     "execution_count": 9,
     "metadata": {},
     "output_type": "execute_result"
    }
   ],
   "source": [
    "config"
   ]
  },
  {
   "cell_type": "code",
   "execution_count": 12,
   "metadata": {},
   "outputs": [
    {
     "data": {
      "text/plain": [
       "{'seed': 1234567891,\n",
       " 'data': {'dataset': 'imagenet',\n",
       "  'downsample': True,\n",
       "  'batch_size': 16,\n",
       "  'num_workers': 8},\n",
       " 'model': {'resnet': {'arch': 'resnet50'},\n",
       "  'branch_enc': {'embd_dim': 256,\n",
       "   'out_dim': 128,\n",
       "   'n_heads': 4,\n",
       "   'n_layers': 5,\n",
       "   'attn_pdrop': 0.1,\n",
       "   'proj_pdrop': 0.1,\n",
       "   'path_pdrop': 0.1,\n",
       "   'eos': True,\n",
       "   'embd_type': 0,\n",
       "   'pe_type': 0},\n",
       "  'content_enc': {'out_dim': 128,\n",
       "   'arch': 'resnet10_imagenet',\n",
       "   'pretrained': False}},\n",
       " 'opt': {'epochs': 8,\n",
       "  'warmup_epochs': 2,\n",
       "  'warmup': ['branch_enc', 'content_enc'],\n",
       "  'branch_enc': {'optim_type': 'adamw',\n",
       "   'lr': 0.001,\n",
       "   'weight_decay': 0.05,\n",
       "   'sched_type': 'cosine'},\n",
       "  'content_enc': {'optim_type': 'adamw',\n",
       "   'lr': 0.001,\n",
       "   'weight_decay': 0.05,\n",
       "   'sched_type': 'cosine'},\n",
       "  'branch_vae': {'optim_type': 'adamw',\n",
       "   'lr': 0.001,\n",
       "   'weight_decay': 0.05,\n",
       "   'sched_type': 'cosine'},\n",
       "  'clip_grad_norm': 1.0},\n",
       " 'train': {'n_branches': 64,\n",
       "  'k': 1,\n",
       "  'min_n_positives': 16,\n",
       "  'temperature': 10,\n",
       "  'delta_rs': 0.5,\n",
       "  'rank_weight': 1.0,\n",
       "  'sort_weight': 1.0,\n",
       "  'bce_loss': 0.0,\n",
       "  'vae_batch_size': 64},\n",
       " 'eval': {'n_branches': 4096, 'max_macs': 1, 'batch_size': 256}}"
      ]
     },
     "execution_count": 12,
     "metadata": {},
     "output_type": "execute_result"
    }
   ],
   "source": [
    "defa = DEFAULTS\n",
    "defa"
   ]
  },
  {
   "cell_type": "code",
   "execution_count": null,
   "metadata": {},
   "outputs": [],
   "source": []
  }
 ],
 "metadata": {
  "kernelspec": {
   "display_name": "vision",
   "language": "python",
   "name": "python3"
  },
  "language_info": {
   "codemirror_mode": {
    "name": "ipython",
    "version": 3
   },
   "file_extension": ".py",
   "mimetype": "text/x-python",
   "name": "python",
   "nbconvert_exporter": "python",
   "pygments_lexer": "ipython3",
   "version": "3.10.0"
  }
 },
 "nbformat": 4,
 "nbformat_minor": 2
}
