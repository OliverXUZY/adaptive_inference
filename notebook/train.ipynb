{
 "cells": [
  {
   "cell_type": "code",
   "execution_count": 1,
   "metadata": {},
   "outputs": [
    {
     "name": "stderr",
     "output_type": "stream",
     "text": [
      "/home/zhuoyan/miniconda3/envs/vision/lib/python3.10/site-packages/tqdm/auto.py:21: TqdmWarning: IProgress not found. Please update jupyter and ipywidgets. See https://ipywidgets.readthedocs.io/en/stable/user_install.html\n",
      "  from .autonotebook import tqdm as notebook_tqdm\n"
     ]
    }
   ],
   "source": [
    "import os\n",
    "os.chdir(\"/home/zhuoyan/vision/branch_embedding/\")\n",
    "import argparse\n",
    "\n",
    "import yaml\n",
    "import torch\n",
    "import torch.nn as nn\n",
    "from torch.utils.tensorboard import SummaryWriter\n",
    "\n",
    "from libs.core import load_config\n",
    "from libs.datasets import make_dataset, make_data_loader\n",
    "from libs.model import Worker\n",
    "from libs.utils import *"
   ]
  },
  {
   "cell_type": "code",
   "execution_count": 2,
   "metadata": {},
   "outputs": [
    {
     "name": "stdout",
     "output_type": "stream",
     "text": [
      "Namespace(config='/home/zhuoyan/vision/branch_embedding/configs/resnet18_cifar10.yaml', name='train_resnet18_cifar10', gpu='0', print_freq=200)\n"
     ]
    }
   ],
   "source": [
    "import argparse\n",
    "\n",
    "def parse_args(input_args):\n",
    "    parser = argparse.ArgumentParser()\n",
    "    parser.add_argument('-c', '--config', type=str, help='config file path')\n",
    "    parser.add_argument('-n', '--name', type=str, help='job name')\n",
    "    parser.add_argument('-g', '--gpu', type=str, default='0', help='GPU IDs')\n",
    "    parser.add_argument('-pf', '--print_freq', type=int, default=1, help='print frequency (x100 itrs)')\n",
    "    \n",
    "    args = parser.parse_args(input_args)\n",
    "    args.print_freq *= 100\n",
    "    \n",
    "    return args\n",
    "\n",
    "# Example\n",
    "input_args = ['-c', '/home/zhuoyan/vision/branch_embedding/configs/resnet18_cifar10.yaml', \n",
    "              '-n', 'train_resnet18_cifar10', \n",
    "              '-pf', '2']\n",
    "args = parse_args(input_args)\n",
    "\n",
    "print(args)\n"
   ]
  },
  {
   "cell_type": "code",
   "execution_count": 3,
   "metadata": {},
   "outputs": [],
   "source": [
    "cfg = load_config(args.config)"
   ]
  },
  {
   "cell_type": "code",
   "execution_count": 4,
   "metadata": {},
   "outputs": [
    {
     "data": {
      "text/plain": [
       "{'dataset': 'cifar10',\n",
       " 'root': '/backup/zhuoyan/datasets',\n",
       " 'downsample': True,\n",
       " 'train_split': 'train',\n",
       " 'val_split': 'test',\n",
       " 'batch_size': 64,\n",
       " 'num_workers': 8}"
      ]
     },
     "execution_count": 4,
     "metadata": {},
     "output_type": "execute_result"
    }
   ],
   "source": [
    "cfg['data']"
   ]
  },
  {
   "cell_type": "code",
   "execution_count": null,
   "metadata": {},
   "outputs": [],
   "source": []
  },
  {
   "cell_type": "code",
   "execution_count": 5,
   "metadata": {},
   "outputs": [
    {
     "name": "stdout",
     "output_type": "stream",
     "text": [
      "config loaded from checkpoint folder\n",
      "load ckpt\n"
     ]
    }
   ],
   "source": [
    "# set up checkpoint folder\n",
    "os.makedirs('log', exist_ok=True)\n",
    "ckpt_path = os.path.join('log', args.name)\n",
    "ensure_path(ckpt_path)\n",
    "\n",
    "# load config\n",
    "try:\n",
    "    cfg_path = os.path.join(ckpt_path, 'config.yaml')\n",
    "    check_file(cfg_path)\n",
    "    cfg = load_config(cfg_path)\n",
    "    print('config loaded from checkpoint folder')\n",
    "    cfg['_resume'] = True\n",
    "    print(\"load ckpt\")\n",
    "except:\n",
    "    check_file(args.config)\n",
    "    cfg = load_config(args.config)\n",
    "    print('config loaded from command line')\n",
    "    print(\"begin\")"
   ]
  },
  {
   "cell_type": "code",
   "execution_count": 6,
   "metadata": {},
   "outputs": [
    {
     "data": {
      "text/plain": [
       "'log/train_resnet18_cifar10'"
      ]
     },
     "execution_count": 6,
     "metadata": {},
     "output_type": "execute_result"
    }
   ],
   "source": [
    "ckpt_path"
   ]
  },
  {
   "cell_type": "markdown",
   "metadata": {},
   "source": [
    "### worker"
   ]
  },
  {
   "cell_type": "code",
   "execution_count": 7,
   "metadata": {},
   "outputs": [
    {
     "data": {
      "text/plain": [
       "{'branch_enc': {'attn_pdrop': 0.1,\n",
       "  'embd_dim': 256,\n",
       "  'embd_type': 0,\n",
       "  'eos': False,\n",
       "  'n_heads': 4,\n",
       "  'n_layers': 5,\n",
       "  'out_dim': 128,\n",
       "  'path_pdrop': 0.1,\n",
       "  'pe_type': 0,\n",
       "  'proj_pdrop': 0.1,\n",
       "  'seq_len': 7},\n",
       " 'branch_vae': {'hid_dim': 32, 'in_dim': 7, 'latent_dim': 2, 'n_layers': 3},\n",
       " 'content_enc': {'arch': 'resnet8_cifar', 'out_dim': 128, 'pretrained': False},\n",
       " 'resnet': {'arch': 'resnet18', 'dataset': 'cifar10'}}"
      ]
     },
     "execution_count": 7,
     "metadata": {},
     "output_type": "execute_result"
    }
   ],
   "source": [
    "cfg['model']"
   ]
  },
  {
   "cell_type": "code",
   "execution_count": 8,
   "metadata": {},
   "outputs": [],
   "source": [
    "worker = Worker(cfg['model'])\n",
    "yaml.dump(cfg, open(os.path.join(ckpt_path, 'config.yaml'), 'w'))"
   ]
  },
  {
   "cell_type": "code",
   "execution_count": 9,
   "metadata": {},
   "outputs": [
    {
     "data": {
      "text/plain": [
       "tensor([0.1512, 0.1362, 0.1020, 0.1358, 0.1018, 0.1357, 0.1017, 0.1356])"
      ]
     },
     "execution_count": 9,
     "metadata": {},
     "output_type": "execute_result"
    }
   ],
   "source": [
    "worker.macs_brk"
   ]
  },
  {
   "cell_type": "code",
   "execution_count": 10,
   "metadata": {},
   "outputs": [
    {
     "data": {
      "text/plain": [
       "ResNet(\n",
       "  (conv1): Conv2d(3, 64, kernel_size=(3, 3), stride=(1, 1), padding=(1, 1), bias=False)\n",
       "  (maxpool): Identity()\n",
       "  (bn1): BatchNorm2d(64, eps=1e-05, momentum=0.1, affine=True, track_running_stats=True)\n",
       "  (actv): ReLU(inplace=True)\n",
       "  (layer1): ModuleList(\n",
       "    (0-1): 2 x BasicBlock(\n",
       "      (conv1): Conv2d(64, 64, kernel_size=(3, 3), stride=(1, 1), padding=(1, 1), bias=False)\n",
       "      (bn1): BatchNorm2d(64, eps=1e-05, momentum=0.1, affine=True, track_running_stats=True)\n",
       "      (conv2): Conv2d(64, 64, kernel_size=(3, 3), stride=(1, 1), padding=(1, 1), bias=False)\n",
       "      (bn2): BatchNorm2d(64, eps=1e-05, momentum=0.1, affine=True, track_running_stats=True)\n",
       "      (downsample): Identity()\n",
       "      (actv): ReLU(inplace=True)\n",
       "    )\n",
       "  )\n",
       "  (layer2): ModuleList(\n",
       "    (0): BasicBlock(\n",
       "      (conv1): Conv2d(64, 128, kernel_size=(3, 3), stride=(2, 2), padding=(1, 1), bias=False)\n",
       "      (bn1): BatchNorm2d(128, eps=1e-05, momentum=0.1, affine=True, track_running_stats=True)\n",
       "      (conv2): Conv2d(128, 128, kernel_size=(3, 3), stride=(1, 1), padding=(1, 1), bias=False)\n",
       "      (bn2): BatchNorm2d(128, eps=1e-05, momentum=0.1, affine=True, track_running_stats=True)\n",
       "      (downsample): Sequential(\n",
       "        (0): Conv2d(64, 128, kernel_size=(1, 1), stride=(2, 2), bias=False)\n",
       "        (1): BatchNorm2d(128, eps=1e-05, momentum=0.1, affine=True, track_running_stats=True)\n",
       "      )\n",
       "      (actv): ReLU(inplace=True)\n",
       "    )\n",
       "    (1): BasicBlock(\n",
       "      (conv1): Conv2d(128, 128, kernel_size=(3, 3), stride=(1, 1), padding=(1, 1), bias=False)\n",
       "      (bn1): BatchNorm2d(128, eps=1e-05, momentum=0.1, affine=True, track_running_stats=True)\n",
       "      (conv2): Conv2d(128, 128, kernel_size=(3, 3), stride=(1, 1), padding=(1, 1), bias=False)\n",
       "      (bn2): BatchNorm2d(128, eps=1e-05, momentum=0.1, affine=True, track_running_stats=True)\n",
       "      (downsample): Identity()\n",
       "      (actv): ReLU(inplace=True)\n",
       "    )\n",
       "  )\n",
       "  (layer3): ModuleList(\n",
       "    (0): BasicBlock(\n",
       "      (conv1): Conv2d(128, 256, kernel_size=(3, 3), stride=(2, 2), padding=(1, 1), bias=False)\n",
       "      (bn1): BatchNorm2d(256, eps=1e-05, momentum=0.1, affine=True, track_running_stats=True)\n",
       "      (conv2): Conv2d(256, 256, kernel_size=(3, 3), stride=(1, 1), padding=(1, 1), bias=False)\n",
       "      (bn2): BatchNorm2d(256, eps=1e-05, momentum=0.1, affine=True, track_running_stats=True)\n",
       "      (downsample): Sequential(\n",
       "        (0): Conv2d(128, 256, kernel_size=(1, 1), stride=(2, 2), bias=False)\n",
       "        (1): BatchNorm2d(256, eps=1e-05, momentum=0.1, affine=True, track_running_stats=True)\n",
       "      )\n",
       "      (actv): ReLU(inplace=True)\n",
       "    )\n",
       "    (1): BasicBlock(\n",
       "      (conv1): Conv2d(256, 256, kernel_size=(3, 3), stride=(1, 1), padding=(1, 1), bias=False)\n",
       "      (bn1): BatchNorm2d(256, eps=1e-05, momentum=0.1, affine=True, track_running_stats=True)\n",
       "      (conv2): Conv2d(256, 256, kernel_size=(3, 3), stride=(1, 1), padding=(1, 1), bias=False)\n",
       "      (bn2): BatchNorm2d(256, eps=1e-05, momentum=0.1, affine=True, track_running_stats=True)\n",
       "      (downsample): Identity()\n",
       "      (actv): ReLU(inplace=True)\n",
       "    )\n",
       "  )\n",
       "  (layer4): ModuleList(\n",
       "    (0): BasicBlock(\n",
       "      (conv1): Conv2d(256, 512, kernel_size=(3, 3), stride=(2, 2), padding=(1, 1), bias=False)\n",
       "      (bn1): BatchNorm2d(512, eps=1e-05, momentum=0.1, affine=True, track_running_stats=True)\n",
       "      (conv2): Conv2d(512, 512, kernel_size=(3, 3), stride=(1, 1), padding=(1, 1), bias=False)\n",
       "      (bn2): BatchNorm2d(512, eps=1e-05, momentum=0.1, affine=True, track_running_stats=True)\n",
       "      (downsample): Sequential(\n",
       "        (0): Conv2d(256, 512, kernel_size=(1, 1), stride=(2, 2), bias=False)\n",
       "        (1): BatchNorm2d(512, eps=1e-05, momentum=0.1, affine=True, track_running_stats=True)\n",
       "      )\n",
       "      (actv): ReLU(inplace=True)\n",
       "    )\n",
       "    (1): BasicBlock(\n",
       "      (conv1): Conv2d(512, 512, kernel_size=(3, 3), stride=(1, 1), padding=(1, 1), bias=False)\n",
       "      (bn1): BatchNorm2d(512, eps=1e-05, momentum=0.1, affine=True, track_running_stats=True)\n",
       "      (conv2): Conv2d(512, 512, kernel_size=(3, 3), stride=(1, 1), padding=(1, 1), bias=False)\n",
       "      (bn2): BatchNorm2d(512, eps=1e-05, momentum=0.1, affine=True, track_running_stats=True)\n",
       "      (downsample): Identity()\n",
       "      (actv): ReLU(inplace=True)\n",
       "    )\n",
       "  )\n",
       "  (avgpool): AdaptiveAvgPool2d(output_size=1)\n",
       "  (fc): Linear(in_features=512, out_features=10, bias=True)\n",
       ")"
      ]
     },
     "execution_count": 10,
     "metadata": {},
     "output_type": "execute_result"
    }
   ],
   "source": [
    "worker.resnet"
   ]
  },
  {
   "cell_type": "code",
   "execution_count": null,
   "metadata": {},
   "outputs": [],
   "source": [
    "m"
   ]
  },
  {
   "cell_type": "code",
   "execution_count": null,
   "metadata": {},
   "outputs": [],
   "source": []
  },
  {
   "cell_type": "markdown",
   "metadata": {},
   "source": [
    "### dataset"
   ]
  },
  {
   "cell_type": "code",
   "execution_count": 28,
   "metadata": {},
   "outputs": [
    {
     "data": {
      "text/plain": [
       "{'dataset': 'cifar10',\n",
       " 'root': '/backup/zhuoyan/datasets',\n",
       " 'downsample': True,\n",
       " 'train_split': 'train',\n",
       " 'val_split': 'test',\n",
       " 'batch_size': 64,\n",
       " 'num_workers': 8}"
      ]
     },
     "execution_count": 28,
     "metadata": {},
     "output_type": "execute_result"
    }
   ],
   "source": [
    "cfg['data']"
   ]
  },
  {
   "cell_type": "code",
   "execution_count": 32,
   "metadata": {},
   "outputs": [],
   "source": [
    "rng = fix_random_seed(cfg.get('seed', 2023))"
   ]
  },
  {
   "cell_type": "code",
   "execution_count": 33,
   "metadata": {},
   "outputs": [
    {
     "name": "stdout",
     "output_type": "stream",
     "text": [
      "Files already downloaded and verified\n",
      "Files already downloaded and verified\n",
      "train data size: 50000\n",
      "number of iterations per epoch: 781\n"
     ]
    }
   ],
   "source": [
    "train_set = make_dataset(\n",
    "    dataset=cfg['data']['dataset'],\n",
    "    root=cfg['data']['root'],\n",
    "    split=cfg['data']['train_split'], \n",
    "    downsample=cfg['data'].get('downsample', False),\n",
    ")\n",
    "train_loader = make_data_loader(\n",
    "    train_set, \n",
    "    generator=rng,\n",
    "    batch_size=cfg['data']['batch_size'],\n",
    "    num_workers=cfg['data']['num_workers'],\n",
    "    is_training=True,\n",
    ")\n",
    "\n",
    "val_set = make_dataset(\n",
    "    dataset=cfg['data']['dataset'],\n",
    "    root=cfg['data']['root'],\n",
    "    split=cfg['data']['val_split'],\n",
    "    downsample=cfg['data'].get('downsample', False),\n",
    ")\n",
    "val_loader = make_data_loader(\n",
    "    val_set, \n",
    "    generator=rng,\n",
    "    batch_size=cfg['data']['batch_size'],\n",
    "    num_workers=cfg['data']['num_workers'],\n",
    "    is_training=False,\n",
    ")\n",
    "\n",
    "itrs_per_epoch = len(train_loader)\n",
    "print('train data size: {:d}'.format(len(train_set)))\n",
    "print('number of iterations per epoch: {:d}'.format(itrs_per_epoch))"
   ]
  },
  {
   "cell_type": "code",
   "execution_count": null,
   "metadata": {},
   "outputs": [],
   "source": []
  },
  {
   "cell_type": "code",
   "execution_count": null,
   "metadata": {},
   "outputs": [],
   "source": []
  },
  {
   "cell_type": "markdown",
   "metadata": {},
   "source": [
    "### opt, scheduler"
   ]
  },
  {
   "cell_type": "code",
   "execution_count": 29,
   "metadata": {},
   "outputs": [
    {
     "data": {
      "text/plain": [
       "{'resnet': {'arch': 'resnet18', 'dataset': 'cifar10'},\n",
       " 'branch_enc': {'embd_dim': 256,\n",
       "  'out_dim': 128,\n",
       "  'n_heads': 4,\n",
       "  'n_layers': 5,\n",
       "  'attn_pdrop': 0.1,\n",
       "  'proj_pdrop': 0.1,\n",
       "  'path_pdrop': 0.1,\n",
       "  'eos': False,\n",
       "  'embd_type': 0,\n",
       "  'pe_type': 0,\n",
       "  'seq_len': 7},\n",
       " 'content_enc': {'out_dim': 128, 'arch': 'resnet8_cifar', 'pretrained': False},\n",
       " 'branch_vae': {'hid_dim': 32, 'n_layers': 3, 'latent_dim': 2, 'in_dim': 7}}"
      ]
     },
     "execution_count": 29,
     "metadata": {},
     "output_type": "execute_result"
    }
   ],
   "source": [
    "cfg['model']"
   ]
  },
  {
   "cell_type": "markdown",
   "metadata": {},
   "source": [
    "### train"
   ]
  },
  {
   "cell_type": "code",
   "execution_count": 30,
   "metadata": {},
   "outputs": [
    {
     "data": {
      "text/plain": [
       "{'n_branches': 64,\n",
       " 'k': 1,\n",
       " 'min_n_positives': 64,\n",
       " 'temperature': 10,\n",
       " 'delta_rs': 0.5,\n",
       " 'rank_weight': 1.0,\n",
       " 'sort_weight': 1.0,\n",
       " 'bce_weight': 0.0,\n",
       " 'bce_loss': 0.0,\n",
       " 'vae_batch_size': 64}"
      ]
     },
     "execution_count": 30,
     "metadata": {},
     "output_type": "execute_result"
    }
   ],
   "source": [
    "cfg['train']"
   ]
  },
  {
   "cell_type": "code",
   "execution_count": 18,
   "metadata": {},
   "outputs": [],
   "source": [
    "bit_mask = 2 ** torch.arange(7 - 1, -1, -1)"
   ]
  },
  {
   "cell_type": "code",
   "execution_count": 19,
   "metadata": {},
   "outputs": [
    {
     "data": {
      "text/plain": [
       "tensor([64, 32, 16,  8,  4,  2,  1])"
      ]
     },
     "execution_count": 19,
     "metadata": {},
     "output_type": "execute_result"
    }
   ],
   "source": [
    "bit_mask"
   ]
  },
  {
   "cell_type": "code",
   "execution_count": 11,
   "metadata": {},
   "outputs": [
    {
     "data": {
      "text/plain": [
       "{'n_branches': 64,\n",
       " 'k': 1,\n",
       " 'min_n_positives': 64,\n",
       " 'temperature': 10,\n",
       " 'delta_rs': 0.5,\n",
       " 'rank_weight': 1.0,\n",
       " 'sort_weight': 1.0,\n",
       " 'bce_weight': 0.0,\n",
       " 'bce_loss': 0.0,\n",
       " 'vae_batch_size': 64}"
      ]
     },
     "execution_count": 11,
     "metadata": {},
     "output_type": "execute_result"
    }
   ],
   "source": [
    "cfg['train']"
   ]
  },
  {
   "cell_type": "code",
   "execution_count": 10,
   "metadata": {},
   "outputs": [
    {
     "data": {
      "text/plain": [
       "64"
      ]
     },
     "execution_count": 10,
     "metadata": {},
     "output_type": "execute_result"
    }
   ],
   "source": [
    "cfg['train']['n_branches']"
   ]
  },
  {
   "cell_type": "code",
   "execution_count": 16,
   "metadata": {},
   "outputs": [
    {
     "data": {
      "text/plain": [
       "tensor([ 0, 27, 53, 19, 32, 38, 63, 50, 17,  5, 10, 25, 55, 35, 14, 34, 12, 31,\n",
       "        56, 39, 13, 61, 40,  6, 45,  8, 46, 54, 11, 36, 18,  3, 26,  9, 24, 60,\n",
       "        48, 51,  1,  7, 52, 16, 28, 33, 62, 20, 59, 30, 43, 41, 58, 44, 42, 22,\n",
       "        15, 47, 21, 37, 57, 49, 23, 29,  4,  2])"
      ]
     },
     "execution_count": 16,
     "metadata": {},
     "output_type": "execute_result"
    }
   ],
   "source": [
    "b_idx = list(range(64))\n",
    "\n",
    "b_idx = random.sample(b_idx, 64)\n",
    "b_idx = torch.LongTensor(b_idx)\n",
    "b_idx"
   ]
  },
  {
   "cell_type": "code",
   "execution_count": 25,
   "metadata": {},
   "outputs": [
    {
     "data": {
      "text/plain": [
       "tensor([[ 0,  0,  0,  0,  0,  0,  0],\n",
       "        [ 0,  0, 16,  8,  0,  2,  1],\n",
       "        [ 0, 32, 16,  0,  4,  0,  1],\n",
       "        [ 0,  0, 16,  0,  0,  2,  1],\n",
       "        [ 0, 32,  0,  0,  0,  0,  0],\n",
       "        [ 0, 32,  0,  0,  4,  2,  0],\n",
       "        [ 0, 32, 16,  8,  4,  2,  1],\n",
       "        [ 0, 32, 16,  0,  0,  2,  0],\n",
       "        [ 0,  0, 16,  0,  0,  0,  1],\n",
       "        [ 0,  0,  0,  0,  4,  0,  1],\n",
       "        [ 0,  0,  0,  8,  0,  2,  0],\n",
       "        [ 0,  0, 16,  8,  0,  0,  1],\n",
       "        [ 0, 32, 16,  0,  4,  2,  1],\n",
       "        [ 0, 32,  0,  0,  0,  2,  1],\n",
       "        [ 0,  0,  0,  8,  4,  2,  0],\n",
       "        [ 0, 32,  0,  0,  0,  2,  0],\n",
       "        [ 0,  0,  0,  8,  4,  0,  0],\n",
       "        [ 0,  0, 16,  8,  4,  2,  1],\n",
       "        [ 0, 32, 16,  8,  0,  0,  0],\n",
       "        [ 0, 32,  0,  0,  4,  2,  1],\n",
       "        [ 0,  0,  0,  8,  4,  0,  1],\n",
       "        [ 0, 32, 16,  8,  4,  0,  1],\n",
       "        [ 0, 32,  0,  8,  0,  0,  0],\n",
       "        [ 0,  0,  0,  0,  4,  2,  0],\n",
       "        [ 0, 32,  0,  8,  4,  0,  1],\n",
       "        [ 0,  0,  0,  8,  0,  0,  0],\n",
       "        [ 0, 32,  0,  8,  4,  2,  0],\n",
       "        [ 0, 32, 16,  0,  4,  2,  0],\n",
       "        [ 0,  0,  0,  8,  0,  2,  1],\n",
       "        [ 0, 32,  0,  0,  4,  0,  0],\n",
       "        [ 0,  0, 16,  0,  0,  2,  0],\n",
       "        [ 0,  0,  0,  0,  0,  2,  1],\n",
       "        [ 0,  0, 16,  8,  0,  2,  0],\n",
       "        [ 0,  0,  0,  8,  0,  0,  1],\n",
       "        [ 0,  0, 16,  8,  0,  0,  0],\n",
       "        [ 0, 32, 16,  8,  4,  0,  0],\n",
       "        [ 0, 32, 16,  0,  0,  0,  0],\n",
       "        [ 0, 32, 16,  0,  0,  2,  1],\n",
       "        [ 0,  0,  0,  0,  0,  0,  1],\n",
       "        [ 0,  0,  0,  0,  4,  2,  1],\n",
       "        [ 0, 32, 16,  0,  4,  0,  0],\n",
       "        [ 0,  0, 16,  0,  0,  0,  0],\n",
       "        [ 0,  0, 16,  8,  4,  0,  0],\n",
       "        [ 0, 32,  0,  0,  0,  0,  1],\n",
       "        [ 0, 32, 16,  8,  4,  2,  0],\n",
       "        [ 0,  0, 16,  0,  4,  0,  0],\n",
       "        [ 0, 32, 16,  8,  0,  2,  1],\n",
       "        [ 0,  0, 16,  8,  4,  2,  0],\n",
       "        [ 0, 32,  0,  8,  0,  2,  1],\n",
       "        [ 0, 32,  0,  8,  0,  0,  1],\n",
       "        [ 0, 32, 16,  8,  0,  2,  0],\n",
       "        [ 0, 32,  0,  8,  4,  0,  0],\n",
       "        [ 0, 32,  0,  8,  0,  2,  0],\n",
       "        [ 0,  0, 16,  0,  4,  2,  0],\n",
       "        [ 0,  0,  0,  8,  4,  2,  1],\n",
       "        [ 0, 32,  0,  8,  4,  2,  1],\n",
       "        [ 0,  0, 16,  0,  4,  0,  1],\n",
       "        [ 0, 32,  0,  0,  4,  0,  1],\n",
       "        [ 0, 32, 16,  8,  0,  0,  1],\n",
       "        [ 0, 32, 16,  0,  0,  0,  1],\n",
       "        [ 0,  0, 16,  0,  4,  2,  1],\n",
       "        [ 0,  0, 16,  8,  4,  0,  1],\n",
       "        [ 0,  0,  0,  0,  4,  0,  0],\n",
       "        [ 0,  0,  0,  0,  0,  2,  0]])"
      ]
     },
     "execution_count": 25,
     "metadata": {},
     "output_type": "execute_result"
    }
   ],
   "source": [
    "b_idx[:, None].bitwise_and(bit_mask)"
   ]
  },
  {
   "cell_type": "code",
   "execution_count": 27,
   "metadata": {},
   "outputs": [
    {
     "data": {
      "text/plain": [
       "torch.Size([64, 7])"
      ]
     },
     "execution_count": 27,
     "metadata": {},
     "output_type": "execute_result"
    }
   ],
   "source": [
    "masks = b_idx[:, None].bitwise_and(bit_mask).ne(0)\n",
    "masks.shape"
   ]
  },
  {
   "cell_type": "code",
   "execution_count": 26,
   "metadata": {},
   "outputs": [
    {
     "data": {
      "text/plain": [
       "128"
      ]
     },
     "execution_count": 26,
     "metadata": {},
     "output_type": "execute_result"
    }
   ],
   "source": [
    "2**7"
   ]
  },
  {
   "cell_type": "code",
   "execution_count": null,
   "metadata": {},
   "outputs": [],
   "source": []
  }
 ],
 "metadata": {
  "kernelspec": {
   "display_name": "vision",
   "language": "python",
   "name": "python3"
  },
  "language_info": {
   "codemirror_mode": {
    "name": "ipython",
    "version": 3
   },
   "file_extension": ".py",
   "mimetype": "text/x-python",
   "name": "python",
   "nbconvert_exporter": "python",
   "pygments_lexer": "ipython3",
   "version": "3.10.0"
  }
 },
 "nbformat": 4,
 "nbformat_minor": 2
}
